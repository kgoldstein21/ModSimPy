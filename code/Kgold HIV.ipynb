{
 "cells": [
  {
   "cell_type": "code",
   "execution_count": 1,
   "metadata": {},
   "outputs": [
    {
     "ename": "SyntaxError",
     "evalue": "invalid syntax (<ipython-input-1-872420fc9e6b>, line 1)",
     "output_type": "error",
     "traceback": [
      "\u001b[1;36m  File \u001b[1;32m\"<ipython-input-1-872420fc9e6b>\"\u001b[1;36m, line \u001b[1;32m1\u001b[0m\n\u001b[1;33m    HIV model smiller&kgold\u001b[0m\n\u001b[1;37m            ^\u001b[0m\n\u001b[1;31mSyntaxError\u001b[0m\u001b[1;31m:\u001b[0m invalid syntax\n"
     ]
    }
   ],
   "source": [
    "HIV model smiller&kgold"
   ]
  },
  {
   "cell_type": "code",
   "execution_count": 84,
   "metadata": {},
   "outputs": [],
   "source": [
    "# Configure Jupyter so figures appear in the notebook\n",
    "%matplotlib inline\n",
    "\n",
    "# Configure Jupyter to display the assigned value after an assignment\n",
    "%config InteractiveShell.ast_node_interactivity='last_expr_or_assign'\n",
    "\n",
    "# import functions from the modsim.py module\n",
    "from modsim import *"
   ]
  },
  {
   "cell_type": "code",
   "execution_count": 125,
   "metadata": {},
   "outputs": [
    {
     "data": {
      "text/html": [
       "<div>\n",
       "<style scoped>\n",
       "    .dataframe tbody tr th:only-of-type {\n",
       "        vertical-align: middle;\n",
       "    }\n",
       "\n",
       "    .dataframe tbody tr th {\n",
       "        vertical-align: top;\n",
       "    }\n",
       "\n",
       "    .dataframe thead th {\n",
       "        text-align: right;\n",
       "    }\n",
       "</style>\n",
       "<table border=\"1\" class=\"dataframe\">\n",
       "  <thead>\n",
       "    <tr style=\"text-align: right;\">\n",
       "      <th></th>\n",
       "      <th>values</th>\n",
       "    </tr>\n",
       "  </thead>\n",
       "  <tbody>\n",
       "    <tr>\n",
       "      <th>R</th>\n",
       "      <td>2.000000e+02</td>\n",
       "    </tr>\n",
       "    <tr>\n",
       "      <th>L</th>\n",
       "      <td>0.000000e+00</td>\n",
       "    </tr>\n",
       "    <tr>\n",
       "      <th>V</th>\n",
       "      <td>4.000000e-07</td>\n",
       "    </tr>\n",
       "    <tr>\n",
       "      <th>E</th>\n",
       "      <td>0.000000e+00</td>\n",
       "    </tr>\n",
       "  </tbody>\n",
       "</table>\n",
       "</div>"
      ],
      "text/plain": [
       "R    2.000000e+02\n",
       "L    0.000000e+00\n",
       "V    4.000000e-07\n",
       "E    0.000000e+00\n",
       "dtype: float64"
      ]
     },
     "execution_count": 125,
     "metadata": {},
     "output_type": "execute_result"
    }
   ],
   "source": [
    "R = 200.0\n",
    "L = 0.0\n",
    "V = .0000004\n",
    "E = 0.0\n",
    "stocks = State(R = R,\n",
    "                L = L,\n",
    "                V = V,\n",
    "                E = E)"
   ]
  },
  {
   "cell_type": "code",
   "execution_count": 149,
   "metadata": {},
   "outputs": [
    {
     "data": {
      "text/html": [
       "<div>\n",
       "<style scoped>\n",
       "    .dataframe tbody tr th:only-of-type {\n",
       "        vertical-align: middle;\n",
       "    }\n",
       "\n",
       "    .dataframe tbody tr th {\n",
       "        vertical-align: top;\n",
       "    }\n",
       "\n",
       "    .dataframe thead th {\n",
       "        text-align: right;\n",
       "    }\n",
       "</style>\n",
       "<table border=\"1\" class=\"dataframe\">\n",
       "  <thead>\n",
       "    <tr style=\"text-align: right;\">\n",
       "      <th></th>\n",
       "      <th>values</th>\n",
       "    </tr>\n",
       "  </thead>\n",
       "  <tbody>\n",
       "    <tr>\n",
       "      <th>g</th>\n",
       "      <td>1.36000</td>\n",
       "    </tr>\n",
       "    <tr>\n",
       "      <th>u</th>\n",
       "      <td>0.00136</td>\n",
       "    </tr>\n",
       "    <tr>\n",
       "      <th>T</th>\n",
       "      <td>0.20000</td>\n",
       "    </tr>\n",
       "    <tr>\n",
       "      <th>B</th>\n",
       "      <td>0.00027</td>\n",
       "    </tr>\n",
       "    <tr>\n",
       "      <th>p</th>\n",
       "      <td>0.10000</td>\n",
       "    </tr>\n",
       "    <tr>\n",
       "      <th>a</th>\n",
       "      <td>0.03600</td>\n",
       "    </tr>\n",
       "    <tr>\n",
       "      <th>s</th>\n",
       "      <td>2.00000</td>\n",
       "    </tr>\n",
       "    <tr>\n",
       "      <th>d</th>\n",
       "      <td>0.33000</td>\n",
       "    </tr>\n",
       "    <tr>\n",
       "      <th>pi</th>\n",
       "      <td>100.00000</td>\n",
       "    </tr>\n",
       "    <tr>\n",
       "      <th>t_0</th>\n",
       "      <td>0.00000</td>\n",
       "    </tr>\n",
       "    <tr>\n",
       "      <th>t_end</th>\n",
       "      <td>120.00000</td>\n",
       "    </tr>\n",
       "    <tr>\n",
       "      <th>dt</th>\n",
       "      <td>0.01000</td>\n",
       "    </tr>\n",
       "  </tbody>\n",
       "</table>\n",
       "</div>"
      ],
      "text/plain": [
       "g          1.36000\n",
       "u          0.00136\n",
       "T          0.20000\n",
       "B          0.00027\n",
       "p          0.10000\n",
       "a          0.03600\n",
       "s          2.00000\n",
       "d          0.33000\n",
       "pi       100.00000\n",
       "t_0        0.00000\n",
       "t_end    120.00000\n",
       "dt         0.01000\n",
       "dtype: float64"
      ]
     },
     "execution_count": 149,
     "metadata": {},
     "output_type": "execute_result"
    }
   ],
   "source": [
    "flows = System(g = 1.36,\n",
    "                u = .00136,\n",
    "                T = .2, \n",
    "                B = .00027,\n",
    "                p = .1,\n",
    "                a = .036,\n",
    "                s = 2,\n",
    "                d = .33,\n",
    "                pi = 100,\n",
    "                t_0 = 0,\n",
    "                t_end = 120,\n",
    "                dt = .01)\n",
    "    \n",
    "#flows = System(Rin = g*t,\n",
    "              #  R2E = (1-p)*B*R*V,\n",
    "               # R2L = p*B*R*V,\n",
    "                #Rout = u*R,\n",
    "                #L2E = a*L,\n",
    "                #Lout = u*L,\n",
    "                #Eout = d*E,\n",
    "                #Vin = pi*E,\n",
    "                #Vout = s*V,\n",
    "                #t_0 = t_0,\n",
    "                #t_end = t_end\n",
    "                "
   ]
  },
  {
   "cell_type": "code",
   "execution_count": 150,
   "metadata": {},
   "outputs": [],
   "source": [
    "def update_func(state, t, system):\n",
    "    \n",
    "    unpack(system)\n",
    "    \n",
    "    r = state.R\n",
    "    l = state.L\n",
    "    e = state.E\n",
    "    v = state.V\n",
    "    \n",
    "    for t in range(int(1/dt)):\n",
    "        deltaR = ((g*T) - u*r - (B*r*v))*dt #(system.Rin - system.Rout - (system.R2L + system.R2E))*dt\n",
    "        deltaL = ((p*B*r*v) - (u*l) - (a*l))*dt #(system.R2L - system.Lout -system.L2E)*dt\n",
    "        deltaE = (((1-p)*B*r*v) + a*l - d*e)*dt #(system.R2E + system.L2E - system.Eout)*dt\n",
    "        deltaV = (pi*e -s*v)*dt #(system.Vin - system.Vout)*dt\n",
    "\n",
    "        r += deltaR\n",
    "        l += deltaL\n",
    "        e += deltaE\n",
    "        v += deltaV\n",
    "    \n",
    "    #print(deltaR)\n",
    "    return State(R=r,L=l,E=e,V=v)\n",
    "    #print(R,L,E,V)"
   ]
  },
  {
   "cell_type": "code",
   "execution_count": 151,
   "metadata": {},
   "outputs": [],
   "source": [
    "###def run_func(update_func, state, system):\n",
    "    \n",
    "   # for t in linrange(t_0, t_end):\n",
    "    #    state[t+1] = update_func(state[t], t, system)\n",
    "    #return state\n",
    "    #print(state)"
   ]
  },
  {
   "cell_type": "code",
   "execution_count": 152,
   "metadata": {},
   "outputs": [],
   "source": [
    "def run_simulation(system, update_func):\n",
    "    \n",
    "    unpack(system)\n",
    "    \n",
    "    frame = TimeFrame(columns=stocks.index)\n",
    "    frame.row[t_0] = stocks\n",
    "    \n",
    "    for t in linrange(t_0, t_end):\n",
    "        frame.row[t+1] = update_func(frame.row[t], t, system)\n",
    "    \n",
    "    return frame"
   ]
  },
  {
   "cell_type": "code",
   "execution_count": 153,
   "metadata": {},
   "outputs": [],
   "source": [
    "def plot_results(R, L, E):\n",
    "\n",
    "    plot(R, '--', label='white blood cells')\n",
    "    plot(L, '-', label='Infected')\n",
    "    plot(E, ':', label='Infectious')\n",
    "    decorate(xlabel='Time',\n",
    "             ylabel='things')"
   ]
  },
  {
   "cell_type": "code",
   "execution_count": 154,
   "metadata": {},
   "outputs": [
    {
     "data": {
      "image/png": "[encoded data removed]",
      "text/plain": [
       "<Figure size 432x288 with 1 Axes>"
      ]
     },
     "metadata": {
      "needs_background": "light"
     },
     "output_type": "display_data"
    }
   ],
   "source": [
    "run_simulation(flows, update_func)\n",
    "results = run_simulation(flows, update_func)\n",
    "plot_results(results.R, results.L, results.E)"
   ]
  },
  {
   "cell_type": "code",
   "execution_count": 139,
   "metadata": {},
   "outputs": [],
   "source": [
    "def plot_resultsV(v):\n",
    "    plot(v, '-', label = 'virions')"
   ]
  },
  {
   "cell_type": "code",
   "execution_count": 141,
   "metadata": {},
   "outputs": [
    {
     "data": {
      "image/png": "[encoded data removed]",
      "text/plain": [
       "<Figure size 432x288 with 1 Axes>"
      ]
     },
     "metadata": {
      "needs_background": "light"
     },
     "output_type": "display_data"
    }
   ],
   "source": [
    "plot_resultsV(results.V)"
   ]
  }
 ],
 "metadata": {
  "kernelspec": {
   "display_name": "Python 3",
   "language": "python",
   "name": "python3"
  },
  "language_info": {
   "codemirror_mode": {
    "name": "ipython",
    "version": 3
   },
   "file_extension": ".py",
   "mimetype": "text/x-python",
   "name": "python",
   "nbconvert_exporter": "python",
   "pygments_lexer": "ipython3",
   "version": "3.6.6"
  }
 },
 "nbformat": 4,
 "nbformat_minor": 2
}
