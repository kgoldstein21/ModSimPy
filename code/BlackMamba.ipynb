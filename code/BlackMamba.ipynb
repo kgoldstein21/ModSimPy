{
 "cells": [
  {
   "cell_type": "markdown",
   "metadata": {},
   "source": [
    "Black Mamba venom model - Jeremy and Katie"
   ]
  },
  {
   "cell_type": "code",
   "execution_count": 2,
   "metadata": {},
   "outputs": [],
   "source": [
    "# Configure Jupyter so figures appear in the notebook\n",
    "%matplotlib inline\n",
    "\n",
    "# Configure Jupyter to display the assigned value after an assignment\n",
    "%config InteractiveShell.ast_node_interactivity='last_expr_or_assign'\n",
    "\n",
    "# import functions from the modsim.py module\n",
    "from modsim import *\n",
    "\n",
    "from pandas import read_html"
   ]
  },
  {
   "cell_type": "markdown",
   "metadata": {},
   "source": [
    "### Model Idea Number 1"
   ]
  },
  {
   "cell_type": "markdown",
   "metadata": {},
   "source": [
    "Question:\n",
    "\n",
    "Explore how black mamba venom and antivenom interact with your body to determine the maximum amount of time between a bite and the administration of venom based on body weight. This is important to consider because it changes the lethal amount of venom that gets absorbed into the body.\n"
   ]
  },
  {
   "cell_type": "markdown",
   "metadata": {},
   "source": [
    "Methods:\n",
    "\n",
    "Black mamba venom contains dendrotoxins and a-neurotoxins. A-neurotoxins bind to neurotransmitter receptors, affectively blocking them from recieving any signals delivered by the neurotransmiter acetylcholine (ACh). This causes a build up of ACh as it is unable to bond to the blocked receptors. As the neurotransmitters become unable to recieve signals paralysis sets in. Dendrotoxins bind with and block the potassium channels of Kv1 cells which control the contraction of skeletal muscles. This causes overproduction of ACh as the body overcompensates for the unrecieved signals. The high ACh quantities fire muscles repeatedly causing spasms. In addition to these neurotoxins, black mamba venom also contains a high ACh content within it. The build up of ACh is ultimately what kills people through paralysis of the respiratory muscles, so that is what we will focus on. Too much ACh in the body causes muscle spasms, convulsions and eventually paralysis.\n",
    "\n",
    "\n",
    "Antivenom is made by injecting large animals, usually horses, with small amounts of venom until their blood builds up enough antibodies to smother the venoms negative affects. The antibodies are then extracted and refined into antivenom. When the antivenom is injected into a bite victim the antibodies seek out and bind to the harmful molecules in the venom (in the black mamba these include the a-neurotoxins and dendrotoxins.) The toxins are then unable to bind with the body thus the antivenom doesn't repair the previous dammage, only prevents more.\n",
    "\n",
    "We will find a rate for how fast the a-neurotoxins and dendrotoxins bind to both the receptors in the body and the proteins in the antivenom."
   ]
  },
  {
   "cell_type": "code",
   "execution_count": 570,
   "metadata": {},
   "outputs": [
    {
     "data": {
      "text/html": [
       "<div>\n",
       "<style scoped>\n",
       "    .dataframe tbody tr th:only-of-type {\n",
       "        vertical-align: middle;\n",
       "    }\n",
       "\n",
       "    .dataframe tbody tr th {\n",
       "        vertical-align: top;\n",
       "    }\n",
       "\n",
       "    .dataframe thead th {\n",
       "        text-align: right;\n",
       "    }\n",
       "</style>\n",
       "<table border=\"1\" class=\"dataframe\">\n",
       "  <thead>\n",
       "    <tr style=\"text-align: right;\">\n",
       "      <th></th>\n",
       "      <th>values</th>\n",
       "    </tr>\n",
       "  </thead>\n",
       "  <tbody>\n",
       "    <tr>\n",
       "      <th>atox_blockage_rate</th>\n",
       "      <td>0</td>\n",
       "    </tr>\n",
       "    <tr>\n",
       "      <th>dentox_blockage_rate</th>\n",
       "      <td>0</td>\n",
       "    </tr>\n",
       "    <tr>\n",
       "      <th>atox_antivenm_blockage_rate</th>\n",
       "      <td>0</td>\n",
       "    </tr>\n",
       "    <tr>\n",
       "      <th>dentox_antivenom_blockage_rate</th>\n",
       "      <td>0</td>\n",
       "    </tr>\n",
       "    <tr>\n",
       "      <th>ACh_build_up_rate</th>\n",
       "      <td>0</td>\n",
       "    </tr>\n",
       "    <tr>\n",
       "      <th>ACh_overproduction_rate</th>\n",
       "      <td>0</td>\n",
       "    </tr>\n",
       "  </tbody>\n",
       "</table>\n",
       "</div>"
      ],
      "text/plain": [
       "atox_blockage_rate                0\n",
       "dentox_blockage_rate              0\n",
       "atox_antivenm_blockage_rate       0\n",
       "dentox_antivenom_blockage_rate    0\n",
       "ACh_build_up_rate                 0\n",
       "ACh_overproduction_rate           0\n",
       "dtype: int64"
      ]
     },
     "execution_count": 570,
     "metadata": {},
     "output_type": "execute_result"
    }
   ],
   "source": [
    "#defining stocks and flows\n",
    "\n",
    "stocks = State(HAChR = 0, #healthy ACh receptors\n",
    "              HKV1 = 0, #healthy Kv1\n",
    "              BAChR = 0, #blocked ACh receptors\n",
    "              BKV1 = 0, #blocked KV1\n",
    "              atox = 0, #a toxin quantity\n",
    "              dentox = 0, #dendrotoxin quantity\n",
    "              AV = 0, #antivenom quantity\n",
    "              AChV = 0, #ACh venom quantity\n",
    "               ACh = 0) #ACh level total\n",
    "\n",
    "flows = System(atox_blockage_rate = 0,\n",
    "              dentox_blockage_rate  = 0,\n",
    "              atox_antivenm_blockage_rate = 0,\n",
    "              dentox_antivenom_blockage_rate = 0,\n",
    "              ACh_build_up_rate = 0,\n",
    "              ACh_overproduction_rate = 0)"
   ]
  },
  {
   "cell_type": "markdown",
   "metadata": {},
   "source": [
    "For this model, we would have made two update functions, one that just modeled the venom travelling through the body and one that modeled both the venom and the antivenom, with a sweep through when the antivenom is first given, because the procedure for how to give antivenom is the same no matter when you start. We would sweep these results for a range of body weights. The results we would have expected from this would be graphs that show how long a person of a certain body weight would have before the antivenom must be administered in order to survive. Unfortunately, there was no data about how much of each of these proteins and receptors there are in the human body or venom so we were unable to make this model."
   ]
  },
  {
   "cell_type": "markdown",
   "metadata": {},
   "source": [
    "### Model Idea Number 2"
   ]
  },
  {
   "cell_type": "markdown",
   "metadata": {},
   "source": [
    "Question:\n",
    "\n",
    "How long can you wait to administer antivenom to a black mamba bite victim?"
   ]
  },
  {
   "cell_type": "markdown",
   "metadata": {},
   "source": [
    "Methods:\n",
    "\n",
    "In order to answer our question we used a well-documented case of a black mamba bite. From this we determined the rate of bonding between the venom and the person's body. Then we found the rate of bonding between the venom and the antivenom. Using this data we created a model that will tell you if you will survive depending on when the antivenom is administered. \n",
    "\n",
    "Mitzi Hazell is a 55 year old woman who survived a black mamba bite. Her story can be found here: https://www.enca.com/south-africa/black-mamba-bite-survivor-tells-her-tale  We had to make two assumptions about the situation in order to make the model work. Firstly, using average age-weight statistics we determined that she is 70kg. Secondly, we researched black mamba venom bite quantities and bassed on the size of the snake that bit her we determined she recieved a dose of 100mg of venom."
   ]
  },
  {
   "cell_type": "code",
   "execution_count": 599,
   "metadata": {},
   "outputs": [],
   "source": [
    "def make_system():\n",
    "\n",
    "    init = State(FV = 100, AV = 50, BV = 0)     #FV is the unbonded venom left in the body. The avergae bite is 100mg of venom\n",
    "                                                #AV is the amount of antivenom injected, in this case 50ml\n",
    "                                                #BV is the amount of venom bonded to the body, it starts at zer\n",
    "    AV_rate = -.005                             #AV_rate is the rate at which the antivenom bonds to the venom\n",
    "    \n",
    "\n",
    "    return System(init=init, AV_rate = AV_rate)"
   ]
  },
  {
   "cell_type": "code",
   "execution_count": 600,
   "metadata": {},
   "outputs": [],
   "source": [
    "def update_func(state, t, system, Minutes_Until_AV):\n",
    "    \n",
    "    if (state.FV <= 0):              #if the venom is completly bonded the model ends\n",
    "        print(\"Survived\")\n",
    "        return state, False\n",
    "    \n",
    "    if (state.BV >= 17.5):           #if the venom bonded to the body reaches 0.25mg of venom per kg of body mass the victim dies\n",
    "        print(\"Painful death\")\n",
    "        return state, False\n",
    "    \n",
    "    \n",
    "    fv = state.FV\n",
    "    av = state.AV\n",
    "    bv = state.BV\n",
    "    \n",
    "    \n",
    "\n",
    "    #beta = .001068*state.FV\n",
    "    receptorB = fv*math.log(.99882)*(.99882**t)     #Calculates the exponential rate at which the venom bonds the the body\n",
    "    #fv = 400(1-.002234)**t\n",
    "    antivenomB = av*system.AV_rate                  #The rate the antivenom bonds with the venom\n",
    "    \n",
    "    \n",
    "    if t < Minutes_Until_AV:                        #simulates the body before the antivenom is injected\n",
    "     \n",
    "        fv += receptorB\n",
    "        bv += abs(receptorB)\n",
    "      \n",
    "    \n",
    "    else:                                          #simulates the injection of antivenom\n",
    "    \n",
    "        fv += receptorB + 2*antivenomB             #The antivenom bonds at a rate of 1ml antivenom: 2mg venom\n",
    "        bv += abs(receptorB)\n",
    "        av += antivenomB\n",
    "    \n",
    "    \n",
    "    return State(FV = fv, AV = av, BV = bv), True"
   ]
  },
  {
   "cell_type": "code",
   "execution_count": 601,
   "metadata": {},
   "outputs": [
    {
     "data": {
      "text/html": [
       "<div>\n",
       "<style scoped>\n",
       "    .dataframe tbody tr th:only-of-type {\n",
       "        vertical-align: middle;\n",
       "    }\n",
       "\n",
       "    .dataframe tbody tr th {\n",
       "        vertical-align: top;\n",
       "    }\n",
       "\n",
       "    .dataframe thead th {\n",
       "        text-align: right;\n",
       "    }\n",
       "</style>\n",
       "<table border=\"1\" class=\"dataframe\">\n",
       "  <thead>\n",
       "    <tr style=\"text-align: right;\">\n",
       "      <th></th>\n",
       "      <th>values</th>\n",
       "    </tr>\n",
       "  </thead>\n",
       "  <tbody>\n",
       "    <tr>\n",
       "      <th>init</th>\n",
       "      <td>FV    100\n",
       "AV     50\n",
       "BV      0\n",
       "dtype: int64</td>\n",
       "    </tr>\n",
       "    <tr>\n",
       "      <th>AV_rate</th>\n",
       "      <td>-0.005</td>\n",
       "    </tr>\n",
       "  </tbody>\n",
       "</table>\n",
       "</div>"
      ],
      "text/plain": [
       "init       FV    100\n",
       "AV     50\n",
       "BV      0\n",
       "dtype: int64\n",
       "AV_rate                                        -0.005\n",
       "dtype: object"
      ]
     },
     "execution_count": 601,
     "metadata": {},
     "output_type": "execute_result"
    }
   ],
   "source": [
    "system = make_system()"
   ]
  },
  {
   "cell_type": "code",
   "execution_count": 602,
   "metadata": {},
   "outputs": [],
   "source": [
    "def run_simulation(system, update_func, Minutes_Until_AV):     #time until antivenom injection is passed in and can be changed\n",
    "\n",
    "    results = TimeFrame(columns=system.init.index)\n",
    "    results.row[0] = system.init\n",
    "    \n",
    "    \n",
    "    state = system.init\n",
    "    \n",
    "    t = 0\n",
    "    while True: \n",
    "        \n",
    "        results.row[t+1], flag = update_func(results.row[t], t, system, Minutes_Until_AV)\n",
    "        \n",
    "        \n",
    "        if flag == False:\n",
    "            return results\n",
    "        \n",
    "        t+=1\n",
    "    "
   ]
  },
  {
   "cell_type": "code",
   "execution_count": 609,
   "metadata": {},
   "outputs": [],
   "source": [
    "def plot_results(FV, AV, BV):\n",
    "    plot(FV, '--', label='Unbonded Venom')\n",
    "    plot(AV, '-', label='Unbonded Antivenom')\n",
    "    plot(BV, ':', label='Venom bonded to body')\n",
    "    decorate(xlabel='Time (minutes)',\n",
    "             ylabel='Quantity')"
   ]
  },
  {
   "cell_type": "code",
   "execution_count": 616,
   "metadata": {},
   "outputs": [
    {
     "name": "stdout",
     "output_type": "stream",
     "text": [
      "Survived\n"
     ]
    },
    {
     "data": {
      "image/png": "[encoded data removed]",
      "text/plain": [
       "<Figure size 432x288 with 1 Axes>"
      ]
     },
     "metadata": {
      "needs_background": "light"
     },
     "output_type": "display_data"
    }
   ],
   "source": [
    "results = run_simulation(system, update_func, 40);\n",
    "plot_results(results.FV, results.AV, results.BV)"
   ]
  },
  {
   "cell_type": "markdown",
   "metadata": {},
   "source": [
    "For example, if the antivenom is administered after 40 minutes, then the victim survives because the ACh doesn't reach the lethal threshold of 17.5 mg of venom bonded. "
   ]
  },
  {
   "cell_type": "code",
   "execution_count": 620,
   "metadata": {},
   "outputs": [
    {
     "name": "stdout",
     "output_type": "stream",
     "text": [
      "Painful death\n"
     ]
    },
    {
     "data": {
      "image/png": "[encoded data removed]",
      "text/plain": [
       "<Figure size 432x288 with 1 Axes>"
      ]
     },
     "metadata": {
      "needs_background": "light"
     },
     "output_type": "display_data"
    }
   ],
   "source": [
    "results = run_simulation(system, update_func, 80);\n",
    "plot_results(results.FV, results.AV, results.BV)"
   ]
  },
  {
   "cell_type": "markdown",
   "metadata": {},
   "source": [
    "However, if it's administered later, for example after 80 minutes, the victim dies. "
   ]
  },
  {
   "cell_type": "markdown",
   "metadata": {},
   "source": [
    "Interpretation:\n",
    "\n",
    "Our model shows whether the victim of a black mamba bite will survive depending on when they recieve the antivenom. We found that 55 minutes is the critical threshold where any 50ml dose of antivenom administered after proves useless.This is only applicable to a situation similar to the one we researched because we were unable to find a wider set of data. Given more data we would be able to broaden this model to apply to anyone. \n",
    "    "
   ]
  },
  {
   "cell_type": "markdown",
   "metadata": {},
   "source": [
    "Reflection:\n",
    "    \n",
    "We bit off more than we could chew on this project. Although we learned a lot about how black mamba venom works on different levels (micro and macro), we were unable to find the necessary data to make the model we had envisioned. Given more data, this model could be applied to any black mamba bite. Also, we could sweep most paramaters so that even without much more data this could be much more applicable. Next time we would give up sooner on our project when we realized the data simply didn't exist,  but we had already sunk so much time into understanding this model by the point that we decided to make it work somehow; it didn't."
   ]
  },
  {
   "cell_type": "code",
   "execution_count": null,
   "metadata": {},
   "outputs": [],
   "source": []
  }
 ],
 "metadata": {
  "kernelspec": {
   "display_name": "Python 3",
   "language": "python",
   "name": "python3"
  },
  "language_info": {
   "codemirror_mode": {
    "name": "ipython",
    "version": 3
   },
   "file_extension": ".py",
   "mimetype": "text/x-python",
   "name": "python",
   "nbconvert_exporter": "python",
   "pygments_lexer": "ipython3",
   "version": "3.6.6"
  }
 },
 "nbformat": 4,
 "nbformat_minor": 2
}
